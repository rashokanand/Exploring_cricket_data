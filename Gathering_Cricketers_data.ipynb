{
 "cells": [
  {
   "cell_type": "code",
   "execution_count": 2,
   "metadata": {},
   "outputs": [],
   "source": [
    "import cricpy"
   ]
  },
  {
   "cell_type": "code",
   "execution_count": 3,
   "metadata": {},
   "outputs": [],
   "source": [
    "import cricpy.analytics as ca"
   ]
  },
  {
   "cell_type": "markdown",
   "metadata": {},
   "source": [
    "## Checking all available functions"
   ]
  },
  {
   "cell_type": "code",
   "execution_count": 9,
   "metadata": {},
   "outputs": [
    {
     "data": {
      "text/plain": [
       "['ARIMA',\n",
       " 'Axes3D',\n",
       " 'KMeans',\n",
       " 'LinearRegression',\n",
       " 'PolynomialFeatures',\n",
       " '__builtins__',\n",
       " '__cached__',\n",
       " '__doc__',\n",
       " '__file__',\n",
       " '__loader__',\n",
       " '__name__',\n",
       " '__package__',\n",
       " '__spec__',\n",
       " 'batsman4s',\n",
       " 'batsman4s6s',\n",
       " 'batsman6s',\n",
       " 'batsmanAvgRunsGround',\n",
       " 'batsmanAvgRunsOpposition',\n",
       " 'batsmanContributionWonLost',\n",
       " 'batsmanCumulativeAverageRuns',\n",
       " 'batsmanCumulativeStrikeRate',\n",
       " 'batsmanDismissals',\n",
       " 'batsmanMeanStrikeRate',\n",
       " 'batsmanMovingAverage',\n",
       " 'batsmanPerfBoxHist',\n",
       " 'batsmanPerfForecast',\n",
       " 'batsmanPerfHomeAway',\n",
       " 'batsmanRunsFreqPerf',\n",
       " 'batsmanRunsLikelihood',\n",
       " 'batsmanRunsPredict',\n",
       " 'batsmanRunsRanges',\n",
       " 'batsmanScoringRateODTT',\n",
       " 'battingPerf3d',\n",
       " 'bowlerAvgWktsGround',\n",
       " 'bowlerAvgWktsOpposition',\n",
       " 'bowlerContributionWonLost',\n",
       " 'bowlerCumulativeAvgEconRate',\n",
       " 'bowlerCumulativeAvgWickets',\n",
       " 'bowlerEconRate',\n",
       " 'bowlerMovingAverage',\n",
       " 'bowlerPerfForecast',\n",
       " 'bowlerPerfHomeAway',\n",
       " 'bowlerWktsFreqPercent',\n",
       " 'bowlerWktsRunsPlot',\n",
       " 'clean',\n",
       " 'cleanBowlerData',\n",
       " 'getPlayerData',\n",
       " 'getPlayerDataOD',\n",
       " 'getPlayerDataSp',\n",
       " 'getPlayerDataSpOD',\n",
       " 'getPlayerDataTT',\n",
       " 'movingaverage',\n",
       " 'np',\n",
       " 'os',\n",
       " 'pd',\n",
       " 'plt',\n",
       " 'rcParams',\n",
       " 'relativeBatsmanCumulativeAvgRuns',\n",
       " 'relativeBatsmanCumulativeStrikeRate',\n",
       " 'relativeBowlerCumulativeAvgEconRate',\n",
       " 'relativeBowlerCumulativeAvgWickets',\n",
       " 'relativeBowlingER',\n",
       " 'seasonal_decompose',\n",
       " 'sns']"
      ]
     },
     "execution_count": 9,
     "metadata": {},
     "output_type": "execute_result"
    }
   ],
   "source": [
    "dir(ca)"
   ]
  },
  {
   "cell_type": "markdown",
   "metadata": {},
   "source": [
    "#### Download specific player data for batsmen\n",
    "- Virat Kohli 253802\n",
    "- Sachin Tendulkar (http://stats.espncricinfo.com/ci/engine/player/35320.html?class=1;type=allround): 35320\n",
    "- Shikar Dhawan 28235\n",
    "- Rohit Sharma 34102\n",
    "- Kane Williamson 277906\n",
    "- Steven Smith 267192\n",
    "- Joe Root 303669"
   ]
  },
  {
   "cell_type": "code",
   "execution_count": null,
   "metadata": {},
   "outputs": [],
   "source": []
  }
 ],
 "metadata": {
  "kernelspec": {
   "display_name": "Python 3",
   "language": "python",
   "name": "python3"
  },
  "language_info": {
   "codemirror_mode": {
    "name": "ipython",
    "version": 3
   },
   "file_extension": ".py",
   "mimetype": "text/x-python",
   "name": "python",
   "nbconvert_exporter": "python",
   "pygments_lexer": "ipython3",
   "version": "3.7.0"
  }
 },
 "nbformat": 4,
 "nbformat_minor": 2
}
